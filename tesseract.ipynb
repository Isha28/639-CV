{
 "cells": [
  {
   "cell_type": "code",
   "execution_count": 1,
   "id": "ad0df268",
   "metadata": {},
   "outputs": [],
   "source": [
    "# Installations\n",
    "# MAC - /bin/bash -c \"$(curl -fsSL https://raw.githubusercontent.com/Homebrew/install/HEAD/install.sh)\" \n",
    "# brew install tesseract\n",
    "# pip install pytesseract"
   ]
  },
  {
   "cell_type": "code",
   "execution_count": 2,
   "id": "497cd3c0",
   "metadata": {},
   "outputs": [],
   "source": [
    "import cv2\n",
    "import os,argparse\n",
    "import pytesseract\n",
    "from PIL import Image"
   ]
  },
  {
   "cell_type": "code",
   "execution_count": 3,
   "id": "7c4d319d",
   "metadata": {},
   "outputs": [],
   "source": [
    "# ap=argparse.ArgumentParser()\n",
    "# ap.add_argument(\"-i\",\"--image\",\n",
    "#                 required=True,\n",
    "#                 help=\"Input image path\")\n",
    "# ap.add_argument(\"-p\",\"--pre_processor\",\n",
    "#                 default=\"thresh\",\n",
    "#                 help=\"Image preprocessing\")\n",
    "# args=vars(ap.parse_args())"
   ]
  },
  {
   "cell_type": "code",
   "execution_count": 4,
   "id": "65677916",
   "metadata": {},
   "outputs": [],
   "source": [
    "#We then read the image with text\n",
    "# input_image=cv2.imread(args[\"image\"])\n",
    "\n",
    "input_image=cv2.imread(\"processed_images/no_noise.jpg\")\n",
    "# input_image=cv2.imread(\"numbers.jpeg\")\n",
    "# input_image=cv2.imread(\"sample_images/page_01_rotated.JPG\")\n",
    "# input_image=cv2.imread(\"processed_images/eroded_image.jpg\")"
   ]
  },
  {
   "cell_type": "code",
   "execution_count": 5,
   "id": "9c626730",
   "metadata": {},
   "outputs": [],
   "source": [
    "#convert to grayscale image\n",
    "gray=cv2.cvtColor(input_image, cv2.COLOR_BGR2GRAY)\n",
    "\n",
    "#checking whether thresh or blur\n",
    "# if args[\"pre_processor\"]==\"thresh\":\n",
    "#     cv2.threshold(gray, 0,255,cv2.THRESH_BINARY| cv2.THRESH_OTSU)[1]\n",
    "# if args[\"pre_processor\"]==\"blur\":\n",
    "#     cv2.medianBlur(gray, 3)"
   ]
  },
  {
   "cell_type": "code",
   "execution_count": 6,
   "id": "6599ea6d",
   "metadata": {},
   "outputs": [],
   "source": [
    "custom_oem_psm_config = r'--oem 3 --psm 6'\n",
    "temp_file = \"{}.jpg\".format(os.getpid())\n",
    "cv2.imwrite(temp_file, gray)\n",
    "text = pytesseract.image_to_string(Image.open(temp_file), config=custom_oem_psm_config)\n",
    "os.remove(temp_file)"
   ]
  },
  {
   "cell_type": "code",
   "execution_count": 7,
   "id": "dc822004",
   "metadata": {},
   "outputs": [
    {
     "name": "stdout",
     "output_type": "stream",
     "text": [
      "This is a handwritten\n",
      "example\n",
      "Write as good as you can.\n",
      "\n"
     ]
    }
   ],
   "source": [
    "print(text)\n",
    "cv2.imshow(\"Image Input\", input_image)\n",
    "cv2.imshow(\"Output In Grayscale\", gray)"
   ]
  }
 ],
 "metadata": {
  "kernelspec": {
   "display_name": "Python 3 (ipykernel)",
   "language": "python",
   "name": "python3"
  },
  "language_info": {
   "codemirror_mode": {
    "name": "ipython",
    "version": 3
   },
   "file_extension": ".py",
   "mimetype": "text/x-python",
   "name": "python",
   "nbconvert_exporter": "python",
   "pygments_lexer": "ipython3",
   "version": "3.9.13"
  }
 },
 "nbformat": 4,
 "nbformat_minor": 5
}
