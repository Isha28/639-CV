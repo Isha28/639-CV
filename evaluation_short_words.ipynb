{
 "cells": [
  {
   "cell_type": "code",
   "execution_count": 1,
   "id": "9800f69f",
   "metadata": {},
   "outputs": [],
   "source": [
    "import os\n",
    "import image_to_voice as iv\n",
    "from collections import Counter\n",
    "import numpy"
   ]
  },
  {
   "cell_type": "code",
   "execution_count": 2,
   "id": "38ed8a4e",
   "metadata": {},
   "outputs": [],
   "source": [
    "def get_all_paths_in(directory):\n",
    "    paths = []\n",
    "    files = os.listdir(directory)\n",
    "    for file in files:\n",
    "        if file.startswith(\".\"):\n",
    "            continue\n",
    "        path = os.path.join(directory, file)\n",
    "        if os.path.isfile(path):\n",
    "            paths.append(path)\n",
    "        elif os.path.isdir(path):\n",
    "            paths.extend(get_all_paths_in(path))\n",
    "    return sorted(paths)"
   ]
  },
  {
   "cell_type": "code",
   "execution_count": 3,
   "id": "dfa27a76",
   "metadata": {},
   "outputs": [
    {
     "data": {
      "text/plain": [
       "400"
      ]
     },
     "execution_count": 3,
     "metadata": {},
     "output_type": "execute_result"
    }
   ],
   "source": [
    "files = get_all_paths_in(\"dataset/short_words\") #change\n",
    "len(files)"
   ]
  },
  {
   "cell_type": "code",
   "execution_count": 4,
   "id": "7b8736d1",
   "metadata": {},
   "outputs": [],
   "source": [
    "def minSubs(word1, word2):\n",
    "        memo = numpy.zeros(shape=(len(word1)+1,len(word2)+1))\n",
    "        # Init for null row and word2\n",
    "        for col in range(len(memo[0])):\n",
    "            memo[0][col] = col\n",
    "        # Init for null col and word1\n",
    "        for row in range(len(memo)):\n",
    "            memo[row][0] = row\n",
    "        \n",
    "        # Now we will use previously stored values\n",
    "        for row in range(1, len(memo)):\n",
    "            for col in range(1, len(memo[0])):\n",
    "                # If chars are not same then we don't need any opeartion, so we just check for value without those chars of below condition\n",
    "                # To get idea lets consider abcde bcd\n",
    "                # when d == d then we need to check for (abc bc)\n",
    "                if(word1[row-1] == word2[col-1]):\n",
    "                    memo[row][col] = memo[row-1][col-1]\n",
    "                # If chars are not same then its just either of the operation 1 + min((abc,bc),(abcd,bc),(abc,bcd))\n",
    "                else:\n",
    "                    memo[row][col] = 1+ min(memo[row-1][col],memo[row][col-1],memo[row-1][col-1])\n",
    "        \n",
    "        return(int(memo[-1][-1]))"
   ]
  },
  {
   "cell_type": "code",
   "execution_count": 5,
   "id": "0e824eed",
   "metadata": {},
   "outputs": [],
   "source": [
    "word_count = 0\n",
    "error_word_count = 0\n",
    "total_count = 0\n",
    "\n",
    "letter_count = 0\n",
    "error_letter_count = 0\n",
    "total_letter_count = 0\n",
    "subs = 0\n",
    "\n",
    "cnt = 0\n",
    "\n",
    "for file in files:\n",
    "    if '.jpg' in file:\n",
    "        cnt = cnt + 1\n",
    "        \n",
    "        actual = iv.main(file)\n",
    "        actual = actual.lower().replace(\" \", \"\")\n",
    "    \n",
    "        temp = file\n",
    "        text_file = temp[:-4] + \".txt\"\n",
    "\n",
    "        f = open(text_file, \"r\", encoding=\"utf-8\")\n",
    "        expected = f.read()\n",
    "        expected = expected.lower().replace(\" \", \"\")\n",
    "\n",
    "        # WORD ACCURACY\n",
    "        if expected == actual:\n",
    "            word_count = word_count + 1\n",
    "        # ERROR RATE\n",
    "        else:\n",
    "            error_word_count = error_word_count + 1\n",
    "        total_count = total_count + 1\n",
    "        \n",
    "        #LETTER ACCURACY, ERROR RATE\n",
    "        for i in range(len(expected)):\n",
    "            if (expected[i] == actual[i]):\n",
    "                letter_count += 1\n",
    "            else:\n",
    "                error_letter_count += 1\n",
    "                \n",
    "        total_letter_count = total_letter_count + len(expected)\n",
    "        \n",
    "        subs += minSubs(actual, expected) \n",
    "\n",
    "word_accuracy = (word_count/total_count)*100\n",
    "word_error = (error_word_count/total_count)*100\n",
    "letter_accuracy = (letter_count/total_letter_count)*100\n",
    "letter_error = (error_letter_count/total_letter_count)*100\n",
    "CERNorm = (subs/total_letter_count)*100"
   ]
  },
  {
   "cell_type": "code",
   "execution_count": 6,
   "id": "a532936c",
   "metadata": {},
   "outputs": [
    {
     "name": "stdout",
     "output_type": "stream",
     "text": [
      "6.583333333333333\n",
      "88.33333333333333\n"
     ]
    }
   ],
   "source": [
    "print (CERNorm)\n",
    "print (letter_accuracy)"
   ]
  }
 ],
 "metadata": {
  "kernelspec": {
   "display_name": "Python 3 (ipykernel)",
   "language": "python",
   "name": "python3"
  },
  "language_info": {
   "codemirror_mode": {
    "name": "ipython",
    "version": 3
   },
   "file_extension": ".py",
   "mimetype": "text/x-python",
   "name": "python",
   "nbconvert_exporter": "python",
   "pygments_lexer": "ipython3",
   "version": "3.9.12"
  }
 },
 "nbformat": 4,
 "nbformat_minor": 5
}
